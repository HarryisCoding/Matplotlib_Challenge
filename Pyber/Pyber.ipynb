{
 "cells": [
  {
   "cell_type": "code",
   "execution_count": 399,
   "metadata": {
    "collapsed": true
   },
   "outputs": [],
   "source": [
    "# Observed trend 1 : \n",
    "#  Urban has more short distance rides than the rest. \n",
    "#  Urban area has more rides but its average fee is lower. 1/3 of total rides happends in urban area.\n",
    "# Observed trend 2 :\n",
    "#  Urban has more drivers. B\n",
    "#  Because the plot side is larger. 86% of total drivers come from urban area.\n",
    "# Observed trend 3 :\n",
    "#  Most of fares come from urban area but the distance of riders tend to longer.\n",
    "#  Because 62% of total fares come from rural area but its average fare is higher."
   ]
  },
  {
   "cell_type": "code",
   "execution_count": 400,
   "metadata": {
    "collapsed": true
   },
   "outputs": [],
   "source": [
    "import pandas as pd\n",
    "import matplotlib.pyplot as plt \n",
    "import seaborn as sns"
   ]
  },
  {
   "cell_type": "code",
   "execution_count": 401,
   "metadata": {},
   "outputs": [
    {
     "data": {
      "text/html": [
       "<div>\n",
       "<style>\n",
       "    .dataframe thead tr:only-child th {\n",
       "        text-align: right;\n",
       "    }\n",
       "\n",
       "    .dataframe thead th {\n",
       "        text-align: left;\n",
       "    }\n",
       "\n",
       "    .dataframe tbody tr th {\n",
       "        vertical-align: top;\n",
       "    }\n",
       "</style>\n",
       "<table border=\"1\" class=\"dataframe\">\n",
       "  <thead>\n",
       "    <tr style=\"text-align: right;\">\n",
       "      <th></th>\n",
       "      <th>city</th>\n",
       "      <th>date</th>\n",
       "      <th>fare</th>\n",
       "      <th>ride_id</th>\n",
       "    </tr>\n",
       "  </thead>\n",
       "  <tbody>\n",
       "    <tr>\n",
       "      <th>0</th>\n",
       "      <td>Sarabury</td>\n",
       "      <td>2016-01-16 13:49:27</td>\n",
       "      <td>38.35</td>\n",
       "      <td>5403689035038</td>\n",
       "    </tr>\n",
       "    <tr>\n",
       "      <th>1</th>\n",
       "      <td>South Roy</td>\n",
       "      <td>2016-01-02 18:42:34</td>\n",
       "      <td>17.49</td>\n",
       "      <td>4036272335942</td>\n",
       "    </tr>\n",
       "    <tr>\n",
       "      <th>2</th>\n",
       "      <td>Wiseborough</td>\n",
       "      <td>2016-01-21 17:35:29</td>\n",
       "      <td>44.18</td>\n",
       "      <td>3645042422587</td>\n",
       "    </tr>\n",
       "    <tr>\n",
       "      <th>3</th>\n",
       "      <td>Spencertown</td>\n",
       "      <td>2016-07-31 14:53:22</td>\n",
       "      <td>6.87</td>\n",
       "      <td>2242596575892</td>\n",
       "    </tr>\n",
       "    <tr>\n",
       "      <th>4</th>\n",
       "      <td>Nguyenbury</td>\n",
       "      <td>2016-07-09 04:42:44</td>\n",
       "      <td>6.28</td>\n",
       "      <td>1543057793673</td>\n",
       "    </tr>\n",
       "  </tbody>\n",
       "</table>\n",
       "</div>"
      ],
      "text/plain": [
       "          city                 date   fare        ride_id\n",
       "0     Sarabury  2016-01-16 13:49:27  38.35  5403689035038\n",
       "1    South Roy  2016-01-02 18:42:34  17.49  4036272335942\n",
       "2  Wiseborough  2016-01-21 17:35:29  44.18  3645042422587\n",
       "3  Spencertown  2016-07-31 14:53:22   6.87  2242596575892\n",
       "4   Nguyenbury  2016-07-09 04:42:44   6.28  1543057793673"
      ]
     },
     "execution_count": 401,
     "metadata": {},
     "output_type": "execute_result"
    }
   ],
   "source": [
    "ridefile_path = 'data/ride_data.csv'\n",
    "ride_df = pd.read_csv(ridefile_path)\n",
    "ride_df.head()"
   ]
  },
  {
   "cell_type": "code",
   "execution_count": 402,
   "metadata": {},
   "outputs": [
    {
     "data": {
      "text/html": [
       "<div>\n",
       "<style>\n",
       "    .dataframe thead tr:only-child th {\n",
       "        text-align: right;\n",
       "    }\n",
       "\n",
       "    .dataframe thead th {\n",
       "        text-align: left;\n",
       "    }\n",
       "\n",
       "    .dataframe tbody tr th {\n",
       "        vertical-align: top;\n",
       "    }\n",
       "</style>\n",
       "<table border=\"1\" class=\"dataframe\">\n",
       "  <thead>\n",
       "    <tr style=\"text-align: right;\">\n",
       "      <th></th>\n",
       "      <th>city</th>\n",
       "      <th>driver_count</th>\n",
       "      <th>type</th>\n",
       "    </tr>\n",
       "  </thead>\n",
       "  <tbody>\n",
       "    <tr>\n",
       "      <th>0</th>\n",
       "      <td>Kelseyland</td>\n",
       "      <td>63</td>\n",
       "      <td>Urban</td>\n",
       "    </tr>\n",
       "    <tr>\n",
       "      <th>1</th>\n",
       "      <td>Nguyenbury</td>\n",
       "      <td>8</td>\n",
       "      <td>Urban</td>\n",
       "    </tr>\n",
       "    <tr>\n",
       "      <th>2</th>\n",
       "      <td>East Douglas</td>\n",
       "      <td>12</td>\n",
       "      <td>Urban</td>\n",
       "    </tr>\n",
       "    <tr>\n",
       "      <th>3</th>\n",
       "      <td>West Dawnfurt</td>\n",
       "      <td>34</td>\n",
       "      <td>Urban</td>\n",
       "    </tr>\n",
       "    <tr>\n",
       "      <th>4</th>\n",
       "      <td>Rodriguezburgh</td>\n",
       "      <td>52</td>\n",
       "      <td>Urban</td>\n",
       "    </tr>\n",
       "  </tbody>\n",
       "</table>\n",
       "</div>"
      ],
      "text/plain": [
       "             city  driver_count   type\n",
       "0      Kelseyland            63  Urban\n",
       "1      Nguyenbury             8  Urban\n",
       "2    East Douglas            12  Urban\n",
       "3   West Dawnfurt            34  Urban\n",
       "4  Rodriguezburgh            52  Urban"
      ]
     },
     "execution_count": 402,
     "metadata": {},
     "output_type": "execute_result"
    }
   ],
   "source": [
    "cityfile_path = 'data/city_data.csv'\n",
    "city_df = pd.read_csv(cityfile_path)\n",
    "city_df.head()"
   ]
  },
  {
   "cell_type": "code",
   "execution_count": 661,
   "metadata": {
    "scrolled": true
   },
   "outputs": [
    {
     "data": {
      "text/html": [
       "<div>\n",
       "<style>\n",
       "    .dataframe thead tr:only-child th {\n",
       "        text-align: right;\n",
       "    }\n",
       "\n",
       "    .dataframe thead th {\n",
       "        text-align: left;\n",
       "    }\n",
       "\n",
       "    .dataframe tbody tr th {\n",
       "        vertical-align: top;\n",
       "    }\n",
       "</style>\n",
       "<table border=\"1\" class=\"dataframe\">\n",
       "  <thead>\n",
       "    <tr style=\"text-align: right;\">\n",
       "      <th></th>\n",
       "      <th>city</th>\n",
       "      <th>date</th>\n",
       "      <th>fare</th>\n",
       "      <th>ride_id</th>\n",
       "      <th>driver_count</th>\n",
       "      <th>type</th>\n",
       "    </tr>\n",
       "  </thead>\n",
       "  <tbody>\n",
       "    <tr>\n",
       "      <th>0</th>\n",
       "      <td>Sarabury</td>\n",
       "      <td>2016-01-16 13:49:27</td>\n",
       "      <td>38.35</td>\n",
       "      <td>5403689035038</td>\n",
       "      <td>46</td>\n",
       "      <td>Urban</td>\n",
       "    </tr>\n",
       "    <tr>\n",
       "      <th>1</th>\n",
       "      <td>South Roy</td>\n",
       "      <td>2016-01-02 18:42:34</td>\n",
       "      <td>17.49</td>\n",
       "      <td>4036272335942</td>\n",
       "      <td>35</td>\n",
       "      <td>Urban</td>\n",
       "    </tr>\n",
       "    <tr>\n",
       "      <th>2</th>\n",
       "      <td>Wiseborough</td>\n",
       "      <td>2016-01-21 17:35:29</td>\n",
       "      <td>44.18</td>\n",
       "      <td>3645042422587</td>\n",
       "      <td>55</td>\n",
       "      <td>Urban</td>\n",
       "    </tr>\n",
       "    <tr>\n",
       "      <th>3</th>\n",
       "      <td>Spencertown</td>\n",
       "      <td>2016-07-31 14:53:22</td>\n",
       "      <td>6.87</td>\n",
       "      <td>2242596575892</td>\n",
       "      <td>68</td>\n",
       "      <td>Urban</td>\n",
       "    </tr>\n",
       "    <tr>\n",
       "      <th>4</th>\n",
       "      <td>Nguyenbury</td>\n",
       "      <td>2016-07-09 04:42:44</td>\n",
       "      <td>6.28</td>\n",
       "      <td>1543057793673</td>\n",
       "      <td>8</td>\n",
       "      <td>Urban</td>\n",
       "    </tr>\n",
       "  </tbody>\n",
       "</table>\n",
       "</div>"
      ],
      "text/plain": [
       "          city                 date   fare        ride_id  driver_count   type\n",
       "0     Sarabury  2016-01-16 13:49:27  38.35  5403689035038            46  Urban\n",
       "1    South Roy  2016-01-02 18:42:34  17.49  4036272335942            35  Urban\n",
       "2  Wiseborough  2016-01-21 17:35:29  44.18  3645042422587            55  Urban\n",
       "3  Spencertown  2016-07-31 14:53:22   6.87  2242596575892            68  Urban\n",
       "4   Nguyenbury  2016-07-09 04:42:44   6.28  1543057793673             8  Urban"
      ]
     },
     "execution_count": 661,
     "metadata": {},
     "output_type": "execute_result"
    }
   ],
   "source": [
    "pb_df = pd.merge(ride_df, city_df, how = 'left', on = 'city')\n",
    "pb_df.head()"
   ]
  },
  {
   "cell_type": "code",
   "execution_count": 440,
   "metadata": {},
   "outputs": [
    {
     "data": {
      "text/html": [
       "<div>\n",
       "<style>\n",
       "    .dataframe thead tr:only-child th {\n",
       "        text-align: right;\n",
       "    }\n",
       "\n",
       "    .dataframe thead th {\n",
       "        text-align: left;\n",
       "    }\n",
       "\n",
       "    .dataframe tbody tr th {\n",
       "        vertical-align: top;\n",
       "    }\n",
       "</style>\n",
       "<table border=\"1\" class=\"dataframe\">\n",
       "  <thead>\n",
       "    <tr style=\"text-align: right;\">\n",
       "      <th></th>\n",
       "      <th>city</th>\n",
       "      <th>date</th>\n",
       "      <th>fare</th>\n",
       "      <th>ride_id</th>\n",
       "      <th>driver_count</th>\n",
       "      <th>type</th>\n",
       "    </tr>\n",
       "  </thead>\n",
       "  <tbody>\n",
       "    <tr>\n",
       "      <th>0</th>\n",
       "      <td>Sarabury</td>\n",
       "      <td>2016-01-16 13:49:27</td>\n",
       "      <td>38.35</td>\n",
       "      <td>5403689035038</td>\n",
       "      <td>46</td>\n",
       "      <td>Urban</td>\n",
       "    </tr>\n",
       "    <tr>\n",
       "      <th>1</th>\n",
       "      <td>South Roy</td>\n",
       "      <td>2016-01-02 18:42:34</td>\n",
       "      <td>17.49</td>\n",
       "      <td>4036272335942</td>\n",
       "      <td>35</td>\n",
       "      <td>Urban</td>\n",
       "    </tr>\n",
       "    <tr>\n",
       "      <th>2</th>\n",
       "      <td>Wiseborough</td>\n",
       "      <td>2016-01-21 17:35:29</td>\n",
       "      <td>44.18</td>\n",
       "      <td>3645042422587</td>\n",
       "      <td>55</td>\n",
       "      <td>Urban</td>\n",
       "    </tr>\n",
       "    <tr>\n",
       "      <th>3</th>\n",
       "      <td>Spencertown</td>\n",
       "      <td>2016-07-31 14:53:22</td>\n",
       "      <td>6.87</td>\n",
       "      <td>2242596575892</td>\n",
       "      <td>68</td>\n",
       "      <td>Urban</td>\n",
       "    </tr>\n",
       "    <tr>\n",
       "      <th>4</th>\n",
       "      <td>Nguyenbury</td>\n",
       "      <td>2016-07-09 04:42:44</td>\n",
       "      <td>6.28</td>\n",
       "      <td>1543057793673</td>\n",
       "      <td>8</td>\n",
       "      <td>Urban</td>\n",
       "    </tr>\n",
       "  </tbody>\n",
       "</table>\n",
       "</div>"
      ],
      "text/plain": [
       "          city                 date   fare        ride_id  driver_count   type\n",
       "0     Sarabury  2016-01-16 13:49:27  38.35  5403689035038            46  Urban\n",
       "1    South Roy  2016-01-02 18:42:34  17.49  4036272335942            35  Urban\n",
       "2  Wiseborough  2016-01-21 17:35:29  44.18  3645042422587            55  Urban\n",
       "3  Spencertown  2016-07-31 14:53:22   6.87  2242596575892            68  Urban\n",
       "4   Nguyenbury  2016-07-09 04:42:44   6.28  1543057793673             8  Urban"
      ]
     },
     "execution_count": 440,
     "metadata": {},
     "output_type": "execute_result"
    }
   ],
   "source": [
    "ub_df = pb_df.loc[pb_df['type'] == 'Urban']\n",
    "ub_df.head()"
   ]
  },
  {
   "cell_type": "code",
   "execution_count": 428,
   "metadata": {},
   "outputs": [
    {
     "data": {
      "text/html": [
       "<div>\n",
       "<style>\n",
       "    .dataframe thead tr:only-child th {\n",
       "        text-align: right;\n",
       "    }\n",
       "\n",
       "    .dataframe thead th {\n",
       "        text-align: left;\n",
       "    }\n",
       "\n",
       "    .dataframe tbody tr th {\n",
       "        vertical-align: top;\n",
       "    }\n",
       "</style>\n",
       "<table border=\"1\" class=\"dataframe\">\n",
       "  <thead>\n",
       "    <tr style=\"text-align: right;\">\n",
       "      <th></th>\n",
       "      <th>city</th>\n",
       "      <th>date</th>\n",
       "      <th>fare</th>\n",
       "      <th>ride_id</th>\n",
       "      <th>driver_count</th>\n",
       "      <th>type</th>\n",
       "    </tr>\n",
       "  </thead>\n",
       "  <tbody>\n",
       "    <tr>\n",
       "      <th>1625</th>\n",
       "      <td>Port James</td>\n",
       "      <td>2016-12-04 06:16:36</td>\n",
       "      <td>15.77</td>\n",
       "      <td>2259499336994</td>\n",
       "      <td>15</td>\n",
       "      <td>Suburban</td>\n",
       "    </tr>\n",
       "    <tr>\n",
       "      <th>1626</th>\n",
       "      <td>Port James</td>\n",
       "      <td>2016-12-04 06:16:36</td>\n",
       "      <td>15.77</td>\n",
       "      <td>2259499336994</td>\n",
       "      <td>3</td>\n",
       "      <td>Suburban</td>\n",
       "    </tr>\n",
       "    <tr>\n",
       "      <th>1627</th>\n",
       "      <td>New Samanthaside</td>\n",
       "      <td>2016-06-05 14:36:58</td>\n",
       "      <td>39.38</td>\n",
       "      <td>3647873452658</td>\n",
       "      <td>16</td>\n",
       "      <td>Suburban</td>\n",
       "    </tr>\n",
       "    <tr>\n",
       "      <th>1628</th>\n",
       "      <td>Port Alexandria</td>\n",
       "      <td>2016-07-29 09:30:09</td>\n",
       "      <td>24.86</td>\n",
       "      <td>2962960319234</td>\n",
       "      <td>27</td>\n",
       "      <td>Suburban</td>\n",
       "    </tr>\n",
       "    <tr>\n",
       "      <th>1629</th>\n",
       "      <td>Lake Brenda</td>\n",
       "      <td>2016-08-26 03:07:30</td>\n",
       "      <td>20.97</td>\n",
       "      <td>5231983896020</td>\n",
       "      <td>24</td>\n",
       "      <td>Suburban</td>\n",
       "    </tr>\n",
       "  </tbody>\n",
       "</table>\n",
       "</div>"
      ],
      "text/plain": [
       "                  city                 date   fare        ride_id  \\\n",
       "1625        Port James  2016-12-04 06:16:36  15.77  2259499336994   \n",
       "1626        Port James  2016-12-04 06:16:36  15.77  2259499336994   \n",
       "1627  New Samanthaside  2016-06-05 14:36:58  39.38  3647873452658   \n",
       "1628   Port Alexandria  2016-07-29 09:30:09  24.86  2962960319234   \n",
       "1629       Lake Brenda  2016-08-26 03:07:30  20.97  5231983896020   \n",
       "\n",
       "      driver_count      type  \n",
       "1625            15  Suburban  \n",
       "1626             3  Suburban  \n",
       "1627            16  Suburban  \n",
       "1628            27  Suburban  \n",
       "1629            24  Suburban  "
      ]
     },
     "execution_count": 428,
     "metadata": {},
     "output_type": "execute_result"
    }
   ],
   "source": [
    "sub_df = pb_df.loc[pb_df['type'] == 'Suburban']\n",
    "sub_df.head()"
   ]
  },
  {
   "cell_type": "code",
   "execution_count": 429,
   "metadata": {},
   "outputs": [
    {
     "data": {
      "text/html": [
       "<div>\n",
       "<style>\n",
       "    .dataframe thead tr:only-child th {\n",
       "        text-align: right;\n",
       "    }\n",
       "\n",
       "    .dataframe thead th {\n",
       "        text-align: left;\n",
       "    }\n",
       "\n",
       "    .dataframe tbody tr th {\n",
       "        vertical-align: top;\n",
       "    }\n",
       "</style>\n",
       "<table border=\"1\" class=\"dataframe\">\n",
       "  <thead>\n",
       "    <tr style=\"text-align: right;\">\n",
       "      <th></th>\n",
       "      <th>city</th>\n",
       "      <th>date</th>\n",
       "      <th>fare</th>\n",
       "      <th>ride_id</th>\n",
       "      <th>driver_count</th>\n",
       "      <th>type</th>\n",
       "    </tr>\n",
       "  </thead>\n",
       "  <tbody>\n",
       "    <tr>\n",
       "      <th>2282</th>\n",
       "      <td>Horneland</td>\n",
       "      <td>2016-07-19 10:07:33</td>\n",
       "      <td>12.63</td>\n",
       "      <td>8214498891817</td>\n",
       "      <td>8</td>\n",
       "      <td>Rural</td>\n",
       "    </tr>\n",
       "    <tr>\n",
       "      <th>2283</th>\n",
       "      <td>Kinghaven</td>\n",
       "      <td>2016-05-18 23:28:12</td>\n",
       "      <td>20.53</td>\n",
       "      <td>6432117120069</td>\n",
       "      <td>3</td>\n",
       "      <td>Rural</td>\n",
       "    </tr>\n",
       "    <tr>\n",
       "      <th>2284</th>\n",
       "      <td>New Johnbury</td>\n",
       "      <td>2016-04-21 08:30:25</td>\n",
       "      <td>56.60</td>\n",
       "      <td>9002881309143</td>\n",
       "      <td>6</td>\n",
       "      <td>Rural</td>\n",
       "    </tr>\n",
       "    <tr>\n",
       "      <th>2285</th>\n",
       "      <td>South Joseph</td>\n",
       "      <td>2016-02-17 01:41:29</td>\n",
       "      <td>57.52</td>\n",
       "      <td>7365786843443</td>\n",
       "      <td>3</td>\n",
       "      <td>Rural</td>\n",
       "    </tr>\n",
       "    <tr>\n",
       "      <th>2286</th>\n",
       "      <td>Kennethburgh</td>\n",
       "      <td>2016-10-19 13:13:17</td>\n",
       "      <td>24.43</td>\n",
       "      <td>2728236352387</td>\n",
       "      <td>3</td>\n",
       "      <td>Rural</td>\n",
       "    </tr>\n",
       "  </tbody>\n",
       "</table>\n",
       "</div>"
      ],
      "text/plain": [
       "              city                 date   fare        ride_id  driver_count  \\\n",
       "2282     Horneland  2016-07-19 10:07:33  12.63  8214498891817             8   \n",
       "2283     Kinghaven  2016-05-18 23:28:12  20.53  6432117120069             3   \n",
       "2284  New Johnbury  2016-04-21 08:30:25  56.60  9002881309143             6   \n",
       "2285  South Joseph  2016-02-17 01:41:29  57.52  7365786843443             3   \n",
       "2286  Kennethburgh  2016-10-19 13:13:17  24.43  2728236352387             3   \n",
       "\n",
       "       type  \n",
       "2282  Rural  \n",
       "2283  Rural  \n",
       "2284  Rural  \n",
       "2285  Rural  \n",
       "2286  Rural  "
      ]
     },
     "execution_count": 429,
     "metadata": {},
     "output_type": "execute_result"
    }
   ],
   "source": [
    "ru_df = pb_df.loc[pb_df['type'] == 'Rural']\n",
    "ru_df.head()"
   ]
  },
  {
   "cell_type": "code",
   "execution_count": 404,
   "metadata": {
    "collapsed": true
   },
   "outputs": [],
   "source": [
    "# Your objective is to build a Bubble Plot that showcases the relationship between four key variables:\n",
    "# Average Fare ($) Per City\n",
    "# Total Number of Rides Per City\n",
    "# Total Number of Drivers Per City\n",
    "# City Type (Urban, Suburban, Rural)"
   ]
  },
  {
   "cell_type": "code",
   "execution_count": 646,
   "metadata": {},
   "outputs": [],
   "source": [
    "# urban data\n",
    "ub_total_fare_dict = ub_df.groupby('city').fare.sum().to_dict()\n",
    "ub_total_ride_dict = ub_df.groupby('city').ride_id.count().to_dict()\n",
    "uq_ub_df = ub_df.drop_duplicates(['city'], keep = 'last')\n",
    "new_uq_ub_df = uq_ub_df[['city','driver_count','type']].sort_values('city') \n",
    "\n",
    "ub_driver_dict = dict(zip(new_uq_ub_df.city, new_uq_ub_df.driver_count))\n",
    "ub_avg_fare_dict = {x:ub_total_fare_dict[x]/ub_total_ride_dict[x] for x in ub_total_ride_dict}\n",
    "\n",
    "ub_city_list = list(ub_avg_fare_dict.keys())\n",
    "ub_avg_fare_list = list(ub_avg_fare_dict.values())\n",
    "ub_ride_list = list(ub_total_ride_dict.values())\n",
    "ub_driver_list = list(ub_driver_dict.values())\n",
    "ub_lar_driver_list = [x*2 for x in ub_driver_list]"
   ]
  },
  {
   "cell_type": "code",
   "execution_count": 654,
   "metadata": {
    "collapsed": true
   },
   "outputs": [],
   "source": [
    "# suburban data\n",
    "sub_total_fare_dict = sub_df.groupby('city').fare.sum().to_dict()\n",
    "sub_total_ride_dict = sub_df.groupby('city').ride_id.count().to_dict()\n",
    "uq_sub_df = sub_df.drop_duplicates(['city'], keep = 'last')\n",
    "new_uq_sub_df = uq_sub_df[['city','driver_count','type']].sort_values('city') \n",
    "\n",
    "sub_driver_dict = dict(zip(new_uq_sub_df.city, new_uq_sub_df.driver_count))\n",
    "sub_avg_fare_dict = {x:sub_total_fare_dict[x]/sub_total_ride_dict[x] for x in sub_total_ride_dict}\n",
    "\n",
    "sub_city_list = list(sub_avg_fare_dict.keys())\n",
    "sub_avg_fare_list = list(sub_avg_fare_dict.values())\n",
    "sub_ride_list = list(sub_total_ride_dict.values())\n",
    "sub_driver_list = list(sub_driver_dict.values())\n",
    "sub_lar_driver_list = [x*2 for x in sub_driver_list]"
   ]
  },
  {
   "cell_type": "code",
   "execution_count": 655,
   "metadata": {},
   "outputs": [],
   "source": [
    "# rural data\n",
    "ru_total_fare_dict = ru_df.groupby('city').fare.sum().to_dict()\n",
    "ru_total_ride_dict = ru_df.groupby('city').ride_id.count().to_dict()\n",
    "uq_ru_df = ru_df.drop_duplicates(['city'], keep = 'last')\n",
    "new_uq_ru_df = uq_ru_df[['city','driver_count','type']].sort_values('city') \n",
    "\n",
    "ru_driver_dict = dict(zip(new_uq_ru_df.city, new_uq_ru_df.driver_count))\n",
    "ru_avg_fare_dict = {x:ru_total_fare_dict[x]/ru_total_ride_dict[x] for x in ru_total_ride_dict}\n",
    "\n",
    "ru_city_list = list(ru_avg_fare_dict.keys())\n",
    "ru_avg_fare_list = list(ru_avg_fare_dict.values())\n",
    "ru_ride_list = list(ru_total_ride_dict.values())\n",
    "ru_driver_list = list(ru_driver_dict.values())\n",
    "ru_lar_driver_list = [x*2 for x in ru_driver_list]"
   ]
  },
  {
   "cell_type": "code",
   "execution_count": 656,
   "metadata": {
    "collapsed": true
   },
   "outputs": [],
   "source": [
    "colors = ['lightcoral', 'lightskyblue', 'Gold']"
   ]
  },
  {
   "cell_type": "code",
   "execution_count": 657,
   "metadata": {},
   "outputs": [],
   "source": [
    "urban = plt.scatter(ub_ride_list, ub_avg_fare_list, marker=\"o\", facecolors=colors[0], edgecolors=\"black\", s=ub_lar_driver_list, alpha=0.75)\n",
    "suburban = plt.scatter(sub_ride_list, sub_avg_fare_list, marker=\"o\", facecolors=colors[1], edgecolors=\"black\", s=sub_lar_driver_list, alpha=0.75)\n",
    "rural = plt.scatter(ru_ride_list, ru_avg_fare_list, marker=\"o\", facecolors=colors[2], edgecolors=\"black\", s=ru_lar_driver_list, alpha=0.75)"
   ]
  },
  {
   "cell_type": "code",
   "execution_count": 658,
   "metadata": {},
   "outputs": [
    {
     "data": {
      "text/plain": [
       "Text(0.73,0.83,'City Types')"
      ]
     },
     "execution_count": 658,
     "metadata": {},
     "output_type": "execute_result"
    }
   ],
   "source": [
    "plt.ylim(15, 45)\n",
    "plt.xlim(0, 40)\n",
    "plt.xlabel('Total Number of Rides (Per City)')\n",
    "plt.ylabel('Average Fare ($)')\n",
    "plt.title('Pyber Rider Sharing Data (2016)')\n",
    "plt.figtext(0.95, 0.6, 'Notes:', rotation='horizontal')\n",
    "plt.figtext(0.95, 0.55, 'Circle size collerates with driver count per city.', rotation='horizontal')\n",
    "plt.figtext(0.73, 0.83, 'City Types', rotation='horizontal')"
   ]
  },
  {
   "cell_type": "code",
   "execution_count": 659,
   "metadata": {
    "collapsed": true
   },
   "outputs": [],
   "source": [
    "lgnd = plt.legend((urban, suburban, rural),('Urban', 'Suburban', 'Rural'),loc='upper right',bbox_to_anchor=(1, 0.95))\n",
    "for handle in lgnd.legendHandles:\n",
    "    handle.set_sizes([30])"
   ]
  },
  {
   "cell_type": "code",
   "execution_count": 660,
   "metadata": {},
   "outputs": [
    {
     "data": {
      "image/png": "[encoded data removed]",
      "text/plain": [
       "<matplotlib.figure.Figure at 0x14c15070>"
      ]
     },
     "metadata": {},
     "output_type": "display_data"
    }
   ],
   "source": [
    "#sns.set()\n",
    "plt.show()"
   ]
  },
  {
   "cell_type": "code",
   "execution_count": 567,
   "metadata": {
    "collapsed": true
   },
   "outputs": [],
   "source": [
    "# In addition, you will be expected to produce the following three pie charts:\n",
    "# % of Total Fares by City Type\n",
    "# % of Total Rides by City Type\n",
    "# % of Total Drivers by City Type"
   ]
  },
  {
   "cell_type": "code",
   "execution_count": 187,
   "metadata": {},
   "outputs": [
    {
     "data": {
      "text/plain": [
       "type\n",
       "Rural        4255.09\n",
       "Suburban    20335.69\n",
       "Urban       40078.34\n",
       "Name: fare, dtype: float64"
      ]
     },
     "execution_count": 187,
     "metadata": {},
     "output_type": "execute_result"
    }
   ],
   "source": [
    "pb_df.groupby('type').fare.sum()"
   ]
  },
  {
   "cell_type": "code",
   "execution_count": 188,
   "metadata": {
    "collapsed": true
   },
   "outputs": [],
   "source": [
    "t_fare_dict = pb_df.groupby('type').fare.sum().to_dict()\n",
    "#t_fare_dict"
   ]
  },
  {
   "cell_type": "code",
   "execution_count": 189,
   "metadata": {},
   "outputs": [
    {
     "data": {
      "text/plain": [
       "type\n",
       "Rural        125\n",
       "Suburban     657\n",
       "Urban       1625\n",
       "Name: ride_id, dtype: int64"
      ]
     },
     "execution_count": 189,
     "metadata": {},
     "output_type": "execute_result"
    }
   ],
   "source": [
    "pb_df.groupby('type').ride_id.count()"
   ]
  },
  {
   "cell_type": "code",
   "execution_count": 190,
   "metadata": {
    "collapsed": true
   },
   "outputs": [],
   "source": [
    "t_ride_dict = pb_df.groupby('type').ride_id.count().to_dict()\n",
    "#t_ride_dict"
   ]
  },
  {
   "cell_type": "code",
   "execution_count": 191,
   "metadata": {},
   "outputs": [
    {
     "data": {
      "text/plain": [
       "type\n",
       "Rural         727\n",
       "Suburban     9730\n",
       "Urban       64501\n",
       "Name: driver_count, dtype: int64"
      ]
     },
     "execution_count": 191,
     "metadata": {},
     "output_type": "execute_result"
    }
   ],
   "source": [
    "pb_df.groupby('type').driver_count.sum()"
   ]
  },
  {
   "cell_type": "code",
   "execution_count": 192,
   "metadata": {
    "collapsed": true
   },
   "outputs": [],
   "source": [
    "t_driver_dict = pb_df.groupby('type').driver_count.sum().to_dict()\n",
    "#t_driver_dict"
   ]
  },
  {
   "cell_type": "code",
   "execution_count": 193,
   "metadata": {
    "collapsed": true
   },
   "outputs": [],
   "source": [
    "t_type_list = list(t_fare_dict.keys())\n",
    "t_fare_list = list(t_fare_dict.values())\n",
    "t_ride_list = list(t_ride_dict.values())\n",
    "t_driver_list = list(t_driver_dict.values())"
   ]
  },
  {
   "cell_type": "code",
   "execution_count": 213,
   "metadata": {
    "collapsed": true
   },
   "outputs": [],
   "source": [
    "colors = ['Gold', 'lightskyblue', 'lightcoral']\n",
    "explode = (0.1,0.1,0)"
   ]
  },
  {
   "cell_type": "code",
   "execution_count": 214,
   "metadata": {},
   "outputs": [
    {
     "data": {
      "text/plain": [
       "([<matplotlib.patches.Wedge at 0xe0bfcf0>,\n",
       "  <matplotlib.patches.Wedge at 0xe0cb370>,\n",
       "  <matplotlib.patches.Wedge at 0xe0cb9f0>],\n",
       " [Text(-1.058,0.566256,'Rural'),\n",
       "  Text(-0.915343,-0.775981,'Suburban'),\n",
       "  Text(0.967193,0.523963,'Urban')],\n",
       " [Text(-0.617164,0.330316,'6.6%'),\n",
       "  Text(-0.53395,-0.452656,'31.4%'),\n",
       "  Text(0.52756,0.285798,'62.0%')])"
      ]
     },
     "execution_count": 214,
     "metadata": {},
     "output_type": "execute_result"
    }
   ],
   "source": [
    "plt.pie(t_fare_list, explode=explode, labels=t_type_list, colors=colors,\n",
    "       autopct=\"%1.1f%%\", shadow=True, startangle=140)"
   ]
  },
  {
   "cell_type": "code",
   "execution_count": 215,
   "metadata": {
    "collapsed": true
   },
   "outputs": [],
   "source": [
    "#plt.axis(\"equal\")"
   ]
  },
  {
   "cell_type": "code",
   "execution_count": 216,
   "metadata": {},
   "outputs": [
    {
     "data": {
      "image/png": "[encoded data removed]",
      "text/plain": [
       "<matplotlib.figure.Figure at 0xe0272b0>"
      ]
     },
     "metadata": {},
     "output_type": "display_data"
    }
   ],
   "source": [
    "plt.title('% of Total Fares by City Type')\n",
    "plt.show()"
   ]
  },
  {
   "cell_type": "code",
   "execution_count": 217,
   "metadata": {},
   "outputs": [
    {
     "data": {
      "text/plain": [
       "([<matplotlib.patches.Wedge at 0xeb096d0>,\n",
       "  <matplotlib.patches.Wedge at 0xeb09d30>,\n",
       "  <matplotlib.patches.Wedge at 0xeb123d0>],\n",
       " [Text(-1.03233,0.611792,'Rural'),\n",
       "  Text(-1.06123,-0.560167,'Suburban'),\n",
       "  Text(1.04328,0.348661,'Urban')],\n",
       " [Text(-0.602194,0.356878,'5.2%'),\n",
       "  Text(-0.619052,-0.326764,'27.3%'),\n",
       "  Text(0.569062,0.190179,'67.5%')])"
      ]
     },
     "execution_count": 217,
     "metadata": {},
     "output_type": "execute_result"
    }
   ],
   "source": [
    "plt.pie(t_ride_list, explode=explode, labels=t_type_list, colors=colors,\n",
    "       autopct=\"%1.1f%%\", shadow=True, startangle=140)"
   ]
  },
  {
   "cell_type": "code",
   "execution_count": 218,
   "metadata": {},
   "outputs": [
    {
     "data": {
      "image/png": "[encoded data removed]",
      "text/plain": [
       "<matplotlib.figure.Figure at 0xe027d90>"
      ]
     },
     "metadata": {},
     "output_type": "display_data"
    }
   ],
   "source": [
    "plt.title('% of Total Rides by City Type')\n",
    "plt.show()"
   ]
  },
  {
   "cell_type": "code",
   "execution_count": 219,
   "metadata": {},
   "outputs": [
    {
     "data": {
      "text/plain": [
       "([<matplotlib.patches.Wedge at 0xeb3e150>,\n",
       "  <matplotlib.patches.Wedge at 0xeb3e7b0>,\n",
       "  <matplotlib.patches.Wedge at 0xeb3ee30>],\n",
       " [Text(-0.942326,0.742982,'Rural'),\n",
       "  Text(-1.16856,0.272866,'Suburban'),\n",
       "  Text(1.06307,-0.282645,'Urban')],\n",
       " [Text(-0.54969,0.433406,'1.0%'),\n",
       "  Text(-0.681663,0.159172,'13.0%'),\n",
       "  Text(0.579855,-0.15417,'86.0%')])"
      ]
     },
     "execution_count": 219,
     "metadata": {},
     "output_type": "execute_result"
    }
   ],
   "source": [
    "plt.pie(t_driver_list, explode=explode, labels=t_type_list, colors=colors,\n",
    "       autopct=\"%1.1f%%\", shadow=True, startangle=140)"
   ]
  },
  {
   "cell_type": "code",
   "execution_count": 220,
   "metadata": {},
   "outputs": [
    {
     "data": {
      "image/png": "[encoded data removed]",
      "text/plain": [
       "<matplotlib.figure.Figure at 0xeae5dd0>"
      ]
     },
     "metadata": {},
     "output_type": "display_data"
    }
   ],
   "source": [
    "plt.title('% of Total drivers by City Type')\n",
    "plt.show()"
   ]
  },
  {
   "cell_type": "code",
   "execution_count": null,
   "metadata": {
    "collapsed": true
   },
   "outputs": [],
   "source": []
  },
  {
   "cell_type": "code",
   "execution_count": null,
   "metadata": {
    "collapsed": true
   },
   "outputs": [],
   "source": []
  }
 ],
 "metadata": {
  "kernelspec": {
   "display_name": "Python 3",
   "language": "python",
   "name": "python3"
  },
  "language_info": {
   "codemirror_mode": {
    "name": "ipython",
    "version": 3
   },
   "file_extension": ".py",
   "mimetype": "text/x-python",
   "name": "python",
   "nbconvert_exporter": "python",
   "pygments_lexer": "ipython3",
   "version": "3.6.3"
  }
 },
 "nbformat": 4,
 "nbformat_minor": 2
}
